{
 "cells": [
  {
   "cell_type": "markdown",
   "metadata": {},
   "source": [
    "## DBSCAN: Desnity Based Clustering"
   ]
  },
  {
   "cell_type": "code",
   "execution_count": 1,
   "metadata": {},
   "outputs": [],
   "source": [
    "from sklearn import cluster, datasets\n",
    "import matplotlib.pyplot as plt\n",
    "%matplotlib inline"
   ]
  },
  {
   "cell_type": "code",
   "execution_count": 2,
   "metadata": {},
   "outputs": [],
   "source": [
    "X = datasets.load_iris().data"
   ]
  },
  {
   "cell_type": "code",
   "execution_count": 3,
   "metadata": {},
   "outputs": [],
   "source": [
    "# Specify parameters for Clustering\n",
    "# min_samples: Minimum nimber of samples required around a point of interest to call it the center of cluster. \n",
    "# Rest all points can be Border Points if Noise, else core points of cluster.\n",
    "db = cluster.DBSCAN(eps=0.5, min_samples=5)"
   ]
  },
  {
   "cell_type": "code",
   "execution_count": 4,
   "metadata": {},
   "outputs": [
    {
     "data": {
      "text/plain": [
       "DBSCAN(algorithm='auto', eps=0.5, leaf_size=30, metric='euclidean',\n",
       "    metric_params=None, min_samples=5, n_jobs=1, p=None)"
      ]
     },
     "execution_count": 4,
     "metadata": {},
     "output_type": "execute_result"
    }
   ],
   "source": [
    "# Train DBSCAN\n",
    "db.fit(X)"
   ]
  },
  {
   "cell_type": "code",
   "execution_count": 5,
   "metadata": {},
   "outputs": [
    {
     "data": {
      "text/plain": [
       "array([ 0,  0,  0,  0,  0,  0,  0,  0,  0,  0,  0,  0,  0,  0,  0,  0,  0,\n",
       "        0,  0,  0,  0,  0,  0,  0,  0,  0,  0,  0,  0,  0,  0,  0,  0,  0,\n",
       "        0,  0,  0,  0,  0,  0,  0, -1,  0,  0,  0,  0,  0,  0,  0,  0,  1,\n",
       "        1,  1,  1,  1,  1,  1, -1,  1,  1, -1,  1,  1,  1,  1,  1,  1,  1,\n",
       "       -1,  1,  1,  1,  1,  1,  1,  1,  1,  1,  1,  1,  1,  1,  1,  1,  1,\n",
       "        1,  1, -1,  1,  1,  1,  1,  1, -1,  1,  1,  1,  1, -1,  1,  1,  1,\n",
       "        1,  1,  1, -1, -1,  1, -1, -1,  1,  1,  1,  1,  1,  1,  1, -1, -1,\n",
       "        1,  1,  1, -1,  1,  1,  1,  1,  1,  1,  1,  1, -1,  1,  1, -1, -1,\n",
       "        1,  1,  1,  1,  1,  1,  1,  1,  1,  1,  1,  1,  1,  1],\n",
       "      dtype=int64)"
      ]
     },
     "execution_count": 5,
     "metadata": {},
     "output_type": "execute_result"
    }
   ],
   "source": [
    "# db.labels_: contains an array representing which cluster each point in X belongs to. Lables \"-1\" belong to Noise\n",
    "labels = db.labels_\n",
    "labels"
   ]
  },
  {
   "cell_type": "code",
   "execution_count": 6,
   "metadata": {},
   "outputs": [
    {
     "name": "stdout",
     "output_type": "stream",
     "text": [
      "VALUE: [5.1 3.5 1.4 0.2]\t CLUSTER: 0\n",
      "VALUE: [4.9 3.  1.4 0.2]\t CLUSTER: 0\n",
      "VALUE: [4.7 3.2 1.3 0.2]\t CLUSTER: 0\n",
      "VALUE: [4.6 3.1 1.5 0.2]\t CLUSTER: 0\n",
      "VALUE: [5.  3.6 1.4 0.2]\t CLUSTER: 0\n",
      "VALUE: [5.4 3.9 1.7 0.4]\t CLUSTER: 0\n",
      "VALUE: [4.6 3.4 1.4 0.3]\t CLUSTER: 0\n",
      "VALUE: [5.  3.4 1.5 0.2]\t CLUSTER: 0\n",
      "VALUE: [4.4 2.9 1.4 0.2]\t CLUSTER: 0\n",
      "VALUE: [4.9 3.1 1.5 0.1]\t CLUSTER: 0\n",
      "VALUE: [5.4 3.7 1.5 0.2]\t CLUSTER: 0\n",
      "VALUE: [4.8 3.4 1.6 0.2]\t CLUSTER: 0\n",
      "VALUE: [4.8 3.  1.4 0.1]\t CLUSTER: 0\n",
      "VALUE: [4.3 3.  1.1 0.1]\t CLUSTER: 0\n",
      "VALUE: [5.8 4.  1.2 0.2]\t CLUSTER: 0\n",
      "VALUE: [5.7 4.4 1.5 0.4]\t CLUSTER: 0\n",
      "VALUE: [5.4 3.9 1.3 0.4]\t CLUSTER: 0\n",
      "VALUE: [5.1 3.5 1.4 0.3]\t CLUSTER: 0\n",
      "VALUE: [5.7 3.8 1.7 0.3]\t CLUSTER: 0\n",
      "VALUE: [5.1 3.8 1.5 0.3]\t CLUSTER: 0\n",
      "VALUE: [5.4 3.4 1.7 0.2]\t CLUSTER: 0\n",
      "VALUE: [5.1 3.7 1.5 0.4]\t CLUSTER: 0\n",
      "VALUE: [4.6 3.6 1.  0.2]\t CLUSTER: 0\n",
      "VALUE: [5.1 3.3 1.7 0.5]\t CLUSTER: 0\n",
      "VALUE: [4.8 3.4 1.9 0.2]\t CLUSTER: 0\n",
      "VALUE: [5.  3.  1.6 0.2]\t CLUSTER: 0\n",
      "VALUE: [5.  3.4 1.6 0.4]\t CLUSTER: 0\n",
      "VALUE: [5.2 3.5 1.5 0.2]\t CLUSTER: 0\n",
      "VALUE: [5.2 3.4 1.4 0.2]\t CLUSTER: 0\n",
      "VALUE: [4.7 3.2 1.6 0.2]\t CLUSTER: 0\n",
      "VALUE: [4.8 3.1 1.6 0.2]\t CLUSTER: 0\n",
      "VALUE: [5.4 3.4 1.5 0.4]\t CLUSTER: 0\n",
      "VALUE: [5.2 4.1 1.5 0.1]\t CLUSTER: 0\n",
      "VALUE: [5.5 4.2 1.4 0.2]\t CLUSTER: 0\n",
      "VALUE: [4.9 3.1 1.5 0.1]\t CLUSTER: 0\n",
      "VALUE: [5.  3.2 1.2 0.2]\t CLUSTER: 0\n",
      "VALUE: [5.5 3.5 1.3 0.2]\t CLUSTER: 0\n",
      "VALUE: [4.9 3.1 1.5 0.1]\t CLUSTER: 0\n",
      "VALUE: [4.4 3.  1.3 0.2]\t CLUSTER: 0\n",
      "VALUE: [5.1 3.4 1.5 0.2]\t CLUSTER: 0\n",
      "VALUE: [5.  3.5 1.3 0.3]\t CLUSTER: 0\n",
      "VALUE: [4.5 2.3 1.3 0.3]\t CLUSTER: -1\n",
      "VALUE: [4.4 3.2 1.3 0.2]\t CLUSTER: 0\n",
      "VALUE: [5.  3.5 1.6 0.6]\t CLUSTER: 0\n",
      "VALUE: [5.1 3.8 1.9 0.4]\t CLUSTER: 0\n",
      "VALUE: [4.8 3.  1.4 0.3]\t CLUSTER: 0\n",
      "VALUE: [5.1 3.8 1.6 0.2]\t CLUSTER: 0\n",
      "VALUE: [4.6 3.2 1.4 0.2]\t CLUSTER: 0\n",
      "VALUE: [5.3 3.7 1.5 0.2]\t CLUSTER: 0\n",
      "VALUE: [5.  3.3 1.4 0.2]\t CLUSTER: 0\n",
      "VALUE: [7.  3.2 4.7 1.4]\t CLUSTER: 1\n",
      "VALUE: [6.4 3.2 4.5 1.5]\t CLUSTER: 1\n",
      "VALUE: [6.9 3.1 4.9 1.5]\t CLUSTER: 1\n",
      "VALUE: [5.5 2.3 4.  1.3]\t CLUSTER: 1\n",
      "VALUE: [6.5 2.8 4.6 1.5]\t CLUSTER: 1\n",
      "VALUE: [5.7 2.8 4.5 1.3]\t CLUSTER: 1\n",
      "VALUE: [6.3 3.3 4.7 1.6]\t CLUSTER: 1\n",
      "VALUE: [4.9 2.4 3.3 1. ]\t CLUSTER: -1\n",
      "VALUE: [6.6 2.9 4.6 1.3]\t CLUSTER: 1\n",
      "VALUE: [5.2 2.7 3.9 1.4]\t CLUSTER: 1\n",
      "VALUE: [5.  2.  3.5 1. ]\t CLUSTER: -1\n",
      "VALUE: [5.9 3.  4.2 1.5]\t CLUSTER: 1\n",
      "VALUE: [6.  2.2 4.  1. ]\t CLUSTER: 1\n",
      "VALUE: [6.1 2.9 4.7 1.4]\t CLUSTER: 1\n",
      "VALUE: [5.6 2.9 3.6 1.3]\t CLUSTER: 1\n",
      "VALUE: [6.7 3.1 4.4 1.4]\t CLUSTER: 1\n",
      "VALUE: [5.6 3.  4.5 1.5]\t CLUSTER: 1\n",
      "VALUE: [5.8 2.7 4.1 1. ]\t CLUSTER: 1\n",
      "VALUE: [6.2 2.2 4.5 1.5]\t CLUSTER: -1\n",
      "VALUE: [5.6 2.5 3.9 1.1]\t CLUSTER: 1\n",
      "VALUE: [5.9 3.2 4.8 1.8]\t CLUSTER: 1\n",
      "VALUE: [6.1 2.8 4.  1.3]\t CLUSTER: 1\n",
      "VALUE: [6.3 2.5 4.9 1.5]\t CLUSTER: 1\n",
      "VALUE: [6.1 2.8 4.7 1.2]\t CLUSTER: 1\n",
      "VALUE: [6.4 2.9 4.3 1.3]\t CLUSTER: 1\n",
      "VALUE: [6.6 3.  4.4 1.4]\t CLUSTER: 1\n",
      "VALUE: [6.8 2.8 4.8 1.4]\t CLUSTER: 1\n",
      "VALUE: [6.7 3.  5.  1.7]\t CLUSTER: 1\n",
      "VALUE: [6.  2.9 4.5 1.5]\t CLUSTER: 1\n",
      "VALUE: [5.7 2.6 3.5 1. ]\t CLUSTER: 1\n",
      "VALUE: [5.5 2.4 3.8 1.1]\t CLUSTER: 1\n",
      "VALUE: [5.5 2.4 3.7 1. ]\t CLUSTER: 1\n",
      "VALUE: [5.8 2.7 3.9 1.2]\t CLUSTER: 1\n",
      "VALUE: [6.  2.7 5.1 1.6]\t CLUSTER: 1\n",
      "VALUE: [5.4 3.  4.5 1.5]\t CLUSTER: 1\n",
      "VALUE: [6.  3.4 4.5 1.6]\t CLUSTER: 1\n",
      "VALUE: [6.7 3.1 4.7 1.5]\t CLUSTER: 1\n",
      "VALUE: [6.3 2.3 4.4 1.3]\t CLUSTER: -1\n",
      "VALUE: [5.6 3.  4.1 1.3]\t CLUSTER: 1\n",
      "VALUE: [5.5 2.5 4.  1.3]\t CLUSTER: 1\n",
      "VALUE: [5.5 2.6 4.4 1.2]\t CLUSTER: 1\n",
      "VALUE: [6.1 3.  4.6 1.4]\t CLUSTER: 1\n",
      "VALUE: [5.8 2.6 4.  1.2]\t CLUSTER: 1\n",
      "VALUE: [5.  2.3 3.3 1. ]\t CLUSTER: -1\n",
      "VALUE: [5.6 2.7 4.2 1.3]\t CLUSTER: 1\n",
      "VALUE: [5.7 3.  4.2 1.2]\t CLUSTER: 1\n",
      "VALUE: [5.7 2.9 4.2 1.3]\t CLUSTER: 1\n",
      "VALUE: [6.2 2.9 4.3 1.3]\t CLUSTER: 1\n",
      "VALUE: [5.1 2.5 3.  1.1]\t CLUSTER: -1\n",
      "VALUE: [5.7 2.8 4.1 1.3]\t CLUSTER: 1\n",
      "VALUE: [6.3 3.3 6.  2.5]\t CLUSTER: 1\n",
      "VALUE: [5.8 2.7 5.1 1.9]\t CLUSTER: 1\n",
      "VALUE: [7.1 3.  5.9 2.1]\t CLUSTER: 1\n",
      "VALUE: [6.3 2.9 5.6 1.8]\t CLUSTER: 1\n",
      "VALUE: [6.5 3.  5.8 2.2]\t CLUSTER: 1\n",
      "VALUE: [7.6 3.  6.6 2.1]\t CLUSTER: -1\n",
      "VALUE: [4.9 2.5 4.5 1.7]\t CLUSTER: -1\n",
      "VALUE: [7.3 2.9 6.3 1.8]\t CLUSTER: 1\n",
      "VALUE: [6.7 2.5 5.8 1.8]\t CLUSTER: -1\n",
      "VALUE: [7.2 3.6 6.1 2.5]\t CLUSTER: -1\n",
      "VALUE: [6.5 3.2 5.1 2. ]\t CLUSTER: 1\n",
      "VALUE: [6.4 2.7 5.3 1.9]\t CLUSTER: 1\n",
      "VALUE: [6.8 3.  5.5 2.1]\t CLUSTER: 1\n",
      "VALUE: [5.7 2.5 5.  2. ]\t CLUSTER: 1\n",
      "VALUE: [5.8 2.8 5.1 2.4]\t CLUSTER: 1\n",
      "VALUE: [6.4 3.2 5.3 2.3]\t CLUSTER: 1\n",
      "VALUE: [6.5 3.  5.5 1.8]\t CLUSTER: 1\n",
      "VALUE: [7.7 3.8 6.7 2.2]\t CLUSTER: -1\n",
      "VALUE: [7.7 2.6 6.9 2.3]\t CLUSTER: -1\n",
      "VALUE: [6.  2.2 5.  1.5]\t CLUSTER: 1\n",
      "VALUE: [6.9 3.2 5.7 2.3]\t CLUSTER: 1\n",
      "VALUE: [5.6 2.8 4.9 2. ]\t CLUSTER: 1\n",
      "VALUE: [7.7 2.8 6.7 2. ]\t CLUSTER: -1\n",
      "VALUE: [6.3 2.7 4.9 1.8]\t CLUSTER: 1\n",
      "VALUE: [6.7 3.3 5.7 2.1]\t CLUSTER: 1\n",
      "VALUE: [7.2 3.2 6.  1.8]\t CLUSTER: 1\n",
      "VALUE: [6.2 2.8 4.8 1.8]\t CLUSTER: 1\n",
      "VALUE: [6.1 3.  4.9 1.8]\t CLUSTER: 1\n",
      "VALUE: [6.4 2.8 5.6 2.1]\t CLUSTER: 1\n",
      "VALUE: [7.2 3.  5.8 1.6]\t CLUSTER: 1\n",
      "VALUE: [7.4 2.8 6.1 1.9]\t CLUSTER: 1\n",
      "VALUE: [7.9 3.8 6.4 2. ]\t CLUSTER: -1\n",
      "VALUE: [6.4 2.8 5.6 2.2]\t CLUSTER: 1\n",
      "VALUE: [6.3 2.8 5.1 1.5]\t CLUSTER: 1\n",
      "VALUE: [6.1 2.6 5.6 1.4]\t CLUSTER: -1\n",
      "VALUE: [7.7 3.  6.1 2.3]\t CLUSTER: -1\n",
      "VALUE: [6.3 3.4 5.6 2.4]\t CLUSTER: 1\n",
      "VALUE: [6.4 3.1 5.5 1.8]\t CLUSTER: 1\n",
      "VALUE: [6.  3.  4.8 1.8]\t CLUSTER: 1\n",
      "VALUE: [6.9 3.1 5.4 2.1]\t CLUSTER: 1\n",
      "VALUE: [6.7 3.1 5.6 2.4]\t CLUSTER: 1\n",
      "VALUE: [6.9 3.1 5.1 2.3]\t CLUSTER: 1\n",
      "VALUE: [5.8 2.7 5.1 1.9]\t CLUSTER: 1\n",
      "VALUE: [6.8 3.2 5.9 2.3]\t CLUSTER: 1\n",
      "VALUE: [6.7 3.3 5.7 2.5]\t CLUSTER: 1\n",
      "VALUE: [6.7 3.  5.2 2.3]\t CLUSTER: 1\n",
      "VALUE: [6.3 2.5 5.  1.9]\t CLUSTER: 1\n",
      "VALUE: [6.5 3.  5.2 2. ]\t CLUSTER: 1\n",
      "VALUE: [6.2 3.4 5.4 2.3]\t CLUSTER: 1\n",
      "VALUE: [5.9 3.  5.1 1.8]\t CLUSTER: 1\n"
     ]
    }
   ],
   "source": [
    "# Labels now contain an array representing the cluster to which the point belongs\n",
    "for i in range(len(X)):\n",
    "    print('VALUE: {0}\\t CLUSTER: {1}'.format(X[i], labels[i]))"
   ]
  },
  {
   "cell_type": "markdown",
   "metadata": {},
   "source": [
    "### Advantages:\n",
    "\n",
    "**1.** We don't need to specify number of clusters\n",
    "\n",
    "**2.** Flexibility in shapes and sizes of clusters\n",
    "\n",
    "**3.** Able to deal with noise\n",
    "\n",
    "**4.** Able to deal with outliers"
   ]
  },
  {
   "cell_type": "markdown",
   "metadata": {},
   "source": [
    "### Disadvantages:\n",
    "\n",
    "**1.** Border points that are reachable from two clusters are added to cluster that finds them first. So, no guirantee of having same points in same clusters every time.\n",
    "\n",
    "**2.** Difficulty finding clusters of varying densities [Solution: Use HDBSCAN]"
   ]
  }
 ],
 "metadata": {
  "kernelspec": {
   "display_name": "Python 3",
   "language": "python",
   "name": "python3"
  },
  "language_info": {
   "codemirror_mode": {
    "name": "ipython",
    "version": 3
   },
   "file_extension": ".py",
   "mimetype": "text/x-python",
   "name": "python",
   "nbconvert_exporter": "python",
   "pygments_lexer": "ipython3",
   "version": "3.6.2"
  }
 },
 "nbformat": 4,
 "nbformat_minor": 2
}
