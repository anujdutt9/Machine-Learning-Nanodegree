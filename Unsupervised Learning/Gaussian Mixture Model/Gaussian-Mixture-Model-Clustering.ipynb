{
 "cells": [
  {
   "cell_type": "markdown",
   "metadata": {},
   "source": [
    "## Gaussian Mixture Model Clustering"
   ]
  },
  {
   "cell_type": "markdown",
   "metadata": {},
   "source": [
    "For GMM Clustering, iterate over these steps till convergence:\n",
    "\n",
    "**1.** Load the data and clean it if required\n",
    "\n",
    "**2.** Take the initial Mean and Variance for the cluster data using K-Means or other clustering algorithm [Soft-Clustering]. This is called as \"Expectation\".\n",
    "\n",
    "**3.** Calculate the \"Maximization\" values using the current mean and variance values and try to get out the clusters.\n",
    "\n",
    "**4.** Reiterate over till the two clusters are obtained as separate."
   ]
  },
  {
   "cell_type": "code",
   "execution_count": 2,
   "metadata": {},
   "outputs": [],
   "source": [
    "# Import Dependencies\n",
    "from sklearn import datasets, mixture\n",
    "import matplotlib.pyplot as plt\n",
    "%matplotlib inline"
   ]
  },
  {
   "cell_type": "code",
   "execution_count": 3,
   "metadata": {},
   "outputs": [],
   "source": [
    "# Load Dataset\n",
    "X = datasets.load_iris().data[:10]"
   ]
  },
  {
   "cell_type": "code",
   "execution_count": 4,
   "metadata": {},
   "outputs": [],
   "source": [
    "# Specify Parameters for Clustering\n",
    "# n_components: Number of Clusters\n",
    "gmm = mixture.GaussianMixture(n_components=3)\n",
    "gmm.fit(X)\n",
    "clustering = gmm.predict(X)"
   ]
  },
  {
   "cell_type": "code",
   "execution_count": 5,
   "metadata": {},
   "outputs": [
    {
     "name": "stdout",
     "output_type": "stream",
     "text": [
      "VALUE: [5.1 3.5 1.4 0.2]\t CLUSTER: 0\n",
      "VALUE: [4.9 3.  1.4 0.2]\t CLUSTER: 1\n",
      "VALUE: [4.7 3.2 1.3 0.2]\t CLUSTER: 2\n",
      "VALUE: [4.6 3.1 1.5 0.2]\t CLUSTER: 2\n",
      "VALUE: [5.  3.6 1.4 0.2]\t CLUSTER: 0\n",
      "VALUE: [5.4 3.9 1.7 0.4]\t CLUSTER: 0\n",
      "VALUE: [4.6 3.4 1.4 0.3]\t CLUSTER: 2\n",
      "VALUE: [5.  3.4 1.5 0.2]\t CLUSTER: 0\n",
      "VALUE: [4.4 2.9 1.4 0.2]\t CLUSTER: 2\n",
      "VALUE: [4.9 3.1 1.5 0.1]\t CLUSTER: 1\n"
     ]
    }
   ],
   "source": [
    "# Print all the clusters\n",
    "# \"clustering\" contains an array representing the cluster to which each point belongs\n",
    "for i in range(len(X)):\n",
    "    print('VALUE: {0}\\t CLUSTER: {1}'.format(X[i], clustering[i]))"
   ]
  },
  {
   "cell_type": "markdown",
   "metadata": {},
   "source": [
    "### Advantages:\n",
    "\n",
    "**1.** Soft Clustering\n",
    "\n",
    "**2.** Cluster shape flexibility\n",
    "\n",
    "\n",
    "### Disadvantages:\n",
    "\n",
    "**1.** Sensitive to initialization values\n",
    "\n",
    "**2.** Possible to converge to local optimum [Gradient Descent problem]\n",
    "\n",
    "**3.** Slow convergence rate"
   ]
  }
 ],
 "metadata": {
  "kernelspec": {
   "display_name": "Python 3",
   "language": "python",
   "name": "python3"
  },
  "language_info": {
   "codemirror_mode": {
    "name": "ipython",
    "version": 3
   },
   "file_extension": ".py",
   "mimetype": "text/x-python",
   "name": "python",
   "nbconvert_exporter": "python",
   "pygments_lexer": "ipython3",
   "version": "3.6.2"
  }
 },
 "nbformat": 4,
 "nbformat_minor": 2
}
